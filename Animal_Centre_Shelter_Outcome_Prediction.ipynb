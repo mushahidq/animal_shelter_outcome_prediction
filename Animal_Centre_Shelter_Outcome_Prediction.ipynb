{
  "nbformat": 4,
  "nbformat_minor": 0,
  "metadata": {
    "colab": {
      "name": "Animal Centre Shelter Outcome Prediction",
      "provenance": [],
      "authorship_tag": "ABX9TyMasDUUdryRmPMcwUIYexKx",
      "include_colab_link": true
    },
    "kernelspec": {
      "name": "python3",
      "display_name": "Python 3"
    },
    "language_info": {
      "name": "python"
    }
  },
  "cells": [
    {
      "cell_type": "markdown",
      "metadata": {
        "id": "view-in-github",
        "colab_type": "text"
      },
      "source": [
        "<a href=\"https://colab.research.google.com/github/mushahidq/animal_shelter_outcome_prediction/blob/main/Animal_Centre_Shelter_Outcome_Prediction.ipynb\" target=\"_parent\"><img src=\"https://colab.research.google.com/assets/colab-badge.svg\" alt=\"Open In Colab\"/></a>"
      ]
    },
    {
      "cell_type": "markdown",
      "metadata": {
        "id": "T_TqjDna_9Pa"
      },
      "source": [
        "## Importing the libraries for studying the data and plotting"
      ]
    },
    {
      "cell_type": "code",
      "metadata": {
        "id": "_PnTlf3pOdF7"
      },
      "source": [
        "import pandas as pd\n",
        "import numpy as np\n",
        "import seaborn as sns\n",
        "import matplotlib.pyplot as plt"
      ],
      "execution_count": 5,
      "outputs": []
    },
    {
      "cell_type": "markdown",
      "metadata": {
        "id": "dsexYyPPAg0p"
      },
      "source": [
        "### Studying the data briefly to understand it"
      ]
    },
    {
      "cell_type": "code",
      "metadata": {
        "colab": {
          "base_uri": "https://localhost:8080/",
          "height": 293
        },
        "id": "9KAIcq4DrUfa",
        "outputId": "fe4e7e44-1569-4f4c-b07e-241054d360dd"
      },
      "source": [
        "data = pd.read_csv(\"aac_shelter_outcomes.csv\", parse_dates=['date_of_birth', 'datetime']) # https://www.kaggle.com/aaronschlegel/austin-animal-center-shelter-outcomes-and?select=aac_shelter_outcomes.csv\n",
        "\n",
        "data.head()"
      ],
      "execution_count": 13,
      "outputs": [
        {
          "output_type": "execute_result",
          "data": {
            "text/html": [
              "<div>\n",
              "<style scoped>\n",
              "    .dataframe tbody tr th:only-of-type {\n",
              "        vertical-align: middle;\n",
              "    }\n",
              "\n",
              "    .dataframe tbody tr th {\n",
              "        vertical-align: top;\n",
              "    }\n",
              "\n",
              "    .dataframe thead th {\n",
              "        text-align: right;\n",
              "    }\n",
              "</style>\n",
              "<table border=\"1\" class=\"dataframe\">\n",
              "  <thead>\n",
              "    <tr style=\"text-align: right;\">\n",
              "      <th></th>\n",
              "      <th>age_upon_outcome</th>\n",
              "      <th>animal_id</th>\n",
              "      <th>animal_type</th>\n",
              "      <th>breed</th>\n",
              "      <th>color</th>\n",
              "      <th>date_of_birth</th>\n",
              "      <th>datetime</th>\n",
              "      <th>monthyear</th>\n",
              "      <th>name</th>\n",
              "      <th>outcome_subtype</th>\n",
              "      <th>outcome_type</th>\n",
              "      <th>sex_upon_outcome</th>\n",
              "    </tr>\n",
              "  </thead>\n",
              "  <tbody>\n",
              "    <tr>\n",
              "      <th>0</th>\n",
              "      <td>2 weeks</td>\n",
              "      <td>A684346</td>\n",
              "      <td>Cat</td>\n",
              "      <td>Domestic Shorthair Mix</td>\n",
              "      <td>Orange Tabby</td>\n",
              "      <td>2014-07-07</td>\n",
              "      <td>2014-07-22 16:04:00</td>\n",
              "      <td>2014-07-22T16:04:00</td>\n",
              "      <td>NaN</td>\n",
              "      <td>Partner</td>\n",
              "      <td>Transfer</td>\n",
              "      <td>Intact Male</td>\n",
              "    </tr>\n",
              "    <tr>\n",
              "      <th>1</th>\n",
              "      <td>1 year</td>\n",
              "      <td>A666430</td>\n",
              "      <td>Dog</td>\n",
              "      <td>Beagle Mix</td>\n",
              "      <td>White/Brown</td>\n",
              "      <td>2012-11-06</td>\n",
              "      <td>2013-11-07 11:47:00</td>\n",
              "      <td>2013-11-07T11:47:00</td>\n",
              "      <td>Lucy</td>\n",
              "      <td>Partner</td>\n",
              "      <td>Transfer</td>\n",
              "      <td>Spayed Female</td>\n",
              "    </tr>\n",
              "    <tr>\n",
              "      <th>2</th>\n",
              "      <td>1 year</td>\n",
              "      <td>A675708</td>\n",
              "      <td>Dog</td>\n",
              "      <td>Pit Bull</td>\n",
              "      <td>Blue/White</td>\n",
              "      <td>2013-03-31</td>\n",
              "      <td>2014-06-03 14:20:00</td>\n",
              "      <td>2014-06-03T14:20:00</td>\n",
              "      <td>*Johnny</td>\n",
              "      <td>NaN</td>\n",
              "      <td>Adoption</td>\n",
              "      <td>Neutered Male</td>\n",
              "    </tr>\n",
              "    <tr>\n",
              "      <th>3</th>\n",
              "      <td>9 years</td>\n",
              "      <td>A680386</td>\n",
              "      <td>Dog</td>\n",
              "      <td>Miniature Schnauzer Mix</td>\n",
              "      <td>White</td>\n",
              "      <td>2005-06-02</td>\n",
              "      <td>2014-06-15 15:50:00</td>\n",
              "      <td>2014-06-15T15:50:00</td>\n",
              "      <td>Monday</td>\n",
              "      <td>Partner</td>\n",
              "      <td>Transfer</td>\n",
              "      <td>Neutered Male</td>\n",
              "    </tr>\n",
              "    <tr>\n",
              "      <th>4</th>\n",
              "      <td>5 months</td>\n",
              "      <td>A683115</td>\n",
              "      <td>Other</td>\n",
              "      <td>Bat Mix</td>\n",
              "      <td>Brown</td>\n",
              "      <td>2014-01-07</td>\n",
              "      <td>2014-07-07 14:04:00</td>\n",
              "      <td>2014-07-07T14:04:00</td>\n",
              "      <td>NaN</td>\n",
              "      <td>Rabies Risk</td>\n",
              "      <td>Euthanasia</td>\n",
              "      <td>Unknown</td>\n",
              "    </tr>\n",
              "  </tbody>\n",
              "</table>\n",
              "</div>"
            ],
            "text/plain": [
              "  age_upon_outcome animal_id  ... outcome_type sex_upon_outcome\n",
              "0          2 weeks   A684346  ...     Transfer      Intact Male\n",
              "1           1 year   A666430  ...     Transfer    Spayed Female\n",
              "2           1 year   A675708  ...     Adoption    Neutered Male\n",
              "3          9 years   A680386  ...     Transfer    Neutered Male\n",
              "4         5 months   A683115  ...   Euthanasia          Unknown\n",
              "\n",
              "[5 rows x 12 columns]"
            ]
          },
          "metadata": {},
          "execution_count": 13
        }
      ]
    },
    {
      "cell_type": "code",
      "metadata": {
        "colab": {
          "base_uri": "https://localhost:8080/"
        },
        "id": "VW3oBP0esBmo",
        "outputId": "359a6724-57ed-4cc6-f9d8-ab74748e5fb7"
      },
      "source": [
        "data.info()"
      ],
      "execution_count": 14,
      "outputs": [
        {
          "output_type": "stream",
          "name": "stdout",
          "text": [
            "<class 'pandas.core.frame.DataFrame'>\n",
            "RangeIndex: 78256 entries, 0 to 78255\n",
            "Data columns (total 12 columns):\n",
            " #   Column            Non-Null Count  Dtype         \n",
            "---  ------            --------------  -----         \n",
            " 0   age_upon_outcome  78248 non-null  object        \n",
            " 1   animal_id         78256 non-null  object        \n",
            " 2   animal_type       78256 non-null  object        \n",
            " 3   breed             78256 non-null  object        \n",
            " 4   color             78256 non-null  object        \n",
            " 5   date_of_birth     78256 non-null  datetime64[ns]\n",
            " 6   datetime          78256 non-null  datetime64[ns]\n",
            " 7   monthyear         78256 non-null  object        \n",
            " 8   name              54370 non-null  object        \n",
            " 9   outcome_subtype   35963 non-null  object        \n",
            " 10  outcome_type      78244 non-null  object        \n",
            " 11  sex_upon_outcome  78254 non-null  object        \n",
            "dtypes: datetime64[ns](2), object(10)\n",
            "memory usage: 7.2+ MB\n"
          ]
        }
      ]
    },
    {
      "cell_type": "code",
      "metadata": {
        "colab": {
          "base_uri": "https://localhost:8080/"
        },
        "id": "fTxAzBVusiTS",
        "outputId": "a09bbc0c-a765-4f50-e00f-f593f6765030"
      },
      "source": [
        "data.nunique()"
      ],
      "execution_count": 15,
      "outputs": [
        {
          "output_type": "execute_result",
          "data": {
            "text/plain": [
              "age_upon_outcome       46\n",
              "animal_id           70855\n",
              "animal_type             5\n",
              "breed                2128\n",
              "color                 525\n",
              "date_of_birth        5869\n",
              "datetime            64361\n",
              "monthyear           64361\n",
              "name                14574\n",
              "outcome_subtype        19\n",
              "outcome_type            9\n",
              "sex_upon_outcome        5\n",
              "dtype: int64"
            ]
          },
          "metadata": {},
          "execution_count": 15
        }
      ]
    },
    {
      "cell_type": "code",
      "metadata": {
        "colab": {
          "base_uri": "https://localhost:8080/"
        },
        "id": "-tsIHvcMuKMM",
        "outputId": "6979fadf-c650-42a4-e1d6-eaf458b344d5"
      },
      "source": [
        "data.groupby(['animal_type']).size()"
      ],
      "execution_count": 16,
      "outputs": [
        {
          "output_type": "execute_result",
          "data": {
            "text/plain": [
              "animal_type\n",
              "Bird           334\n",
              "Cat          29422\n",
              "Dog          44242\n",
              "Livestock        9\n",
              "Other         4249\n",
              "dtype: int64"
            ]
          },
          "metadata": {},
          "execution_count": 16
        }
      ]
    },
    {
      "cell_type": "code",
      "metadata": {
        "colab": {
          "base_uri": "https://localhost:8080/"
        },
        "id": "4WrjJJ-Osl-i",
        "outputId": "b16b1a54-7dc4-43cc-ac88-17e8741d86ce"
      },
      "source": [
        "data.groupby(['animal_type', 'breed']).size()"
      ],
      "execution_count": 17,
      "outputs": [
        {
          "output_type": "execute_result",
          "data": {
            "text/plain": [
              "animal_type  breed          \n",
              "Bird         African Mix         1\n",
              "             Bantam Mix          8\n",
              "             Barred Rock Mix     1\n",
              "             Bluebird Mix        3\n",
              "             Budgerigar          1\n",
              "                                ..\n",
              "Other        Tortoise            1\n",
              "             Tortoise Mix        7\n",
              "             Tropical Mix        1\n",
              "             Turtle              2\n",
              "             Turtle Mix         18\n",
              "Length: 2128, dtype: int64"
            ]
          },
          "metadata": {},
          "execution_count": 17
        }
      ]
    },
    {
      "cell_type": "code",
      "metadata": {
        "colab": {
          "base_uri": "https://localhost:8080/"
        },
        "id": "5wVzKs4YuATy",
        "outputId": "ab517660-f61c-4c1c-f660-a3c1fecc2a43"
      },
      "source": [
        "data.groupby(['outcome_type']).size()"
      ],
      "execution_count": 155,
      "outputs": [
        {
          "output_type": "execute_result",
          "data": {
            "text/plain": [
              "outcome_type\n",
              "Adoption           33112\n",
              "Died                 680\n",
              "Disposal             307\n",
              "Euthanasia          6080\n",
              "Missing               46\n",
              "Relocate              16\n",
              "Return to Owner    14354\n",
              "Rto-Adopt            150\n",
              "Transfer           23499\n",
              "dtype: int64"
            ]
          },
          "metadata": {},
          "execution_count": 155
        }
      ]
    },
    {
      "cell_type": "code",
      "metadata": {
        "colab": {
          "base_uri": "https://localhost:8080/"
        },
        "id": "AJgNRnpp4wrX",
        "outputId": "4bf32f56-a6db-4ab7-8a9f-20bfe753f25e"
      },
      "source": [
        "data.groupby(['animal_type', 'outcome_type']).size()"
      ],
      "execution_count": 190,
      "outputs": [
        {
          "output_type": "execute_result",
          "data": {
            "text/plain": [
              "animal_type  outcome_type   \n",
              "Bird         Adoption             114\n",
              "             Died                   4\n",
              "             Disposal              22\n",
              "             Euthanasia            85\n",
              "             Missing                1\n",
              "             Relocate               7\n",
              "             Return to Owner        9\n",
              "             Transfer              92\n",
              "Cat          Adoption           12732\n",
              "             Died                 403\n",
              "             Disposal              16\n",
              "             Euthanasia          1453\n",
              "             Missing               28\n",
              "             Return to Owner     1431\n",
              "             Rto-Adopt             33\n",
              "             Transfer           13323\n",
              "Dog          Adoption           20052\n",
              "             Died                 138\n",
              "             Disposal              17\n",
              "             Euthanasia          1504\n",
              "             Missing               17\n",
              "             Return to Owner    12875\n",
              "             Rto-Adopt            117\n",
              "             Transfer            9518\n",
              "Livestock    Adoption               2\n",
              "             Return to Owner        1\n",
              "             Transfer               6\n",
              "Other        Adoption             212\n",
              "             Died                 135\n",
              "             Disposal             252\n",
              "             Euthanasia          3038\n",
              "             Relocate               9\n",
              "             Return to Owner       38\n",
              "             Transfer             560\n",
              "dtype: int64"
            ]
          },
          "metadata": {},
          "execution_count": 190
        }
      ]
    },
    {
      "cell_type": "code",
      "metadata": {
        "colab": {
          "base_uri": "https://localhost:8080/"
        },
        "id": "VaidxsVEAyZQ",
        "outputId": "619b1fd0-2b5c-4ca8-c34c-71724d08ab06"
      },
      "source": [
        "data.loc[data['outcome_type'] == 'Adoption'].groupby(['animal_type', 'outcome_type']).size()"
      ],
      "execution_count": 192,
      "outputs": [
        {
          "output_type": "execute_result",
          "data": {
            "text/plain": [
              "animal_type  outcome_type\n",
              "Bird         Adoption          114\n",
              "Cat          Adoption        12732\n",
              "Dog          Adoption        20052\n",
              "Livestock    Adoption            2\n",
              "Other        Adoption          212\n",
              "dtype: int64"
            ]
          },
          "metadata": {},
          "execution_count": 192
        }
      ]
    },
    {
      "cell_type": "markdown",
      "metadata": {
        "id": "ZiYGLXYOAn_Q"
      },
      "source": [
        "### Some visualisations to better understand the data"
      ]
    },
    {
      "cell_type": "code",
      "metadata": {
        "colab": {
          "base_uri": "https://localhost:8080/",
          "height": 272
        },
        "id": "nGz0UKKmuTqw",
        "outputId": "2d11cc16-b74b-423d-ab9c-0fbb82805467"
      },
      "source": [
        "# DOB plot\n",
        "data.date_of_birth.value_counts().sort_values().plot.line()"
      ],
      "execution_count": 25,
      "outputs": [
        {
          "output_type": "execute_result",
          "data": {
            "text/plain": [
              "<matplotlib.axes._subplots.AxesSubplot at 0x7f41ea4578d0>"
            ]
          },
          "metadata": {},
          "execution_count": 25
        },
        {
          "output_type": "display_data",
          "data": {
            "image/png": "[encoded data removed]",
            "text/plain": [
              "<Figure size 432x288 with 1 Axes>"
            ]
          },
          "metadata": {
            "needs_background": "light"
          }
        }
      ]
    },
    {
      "cell_type": "code",
      "metadata": {
        "colab": {
          "base_uri": "https://localhost:8080/",
          "height": 282
        },
        "id": "DeInkk7ZvTNF",
        "outputId": "7ac10aa5-0717-46f5-ad2c-c053efbea98f"
      },
      "source": [
        "# DOB sampled by year\n",
        "data.date_of_birth.value_counts().resample('Y').sum().plot.line()"
      ],
      "execution_count": 27,
      "outputs": [
        {
          "output_type": "execute_result",
          "data": {
            "text/plain": [
              "<matplotlib.axes._subplots.AxesSubplot at 0x7f41ea323e90>"
            ]
          },
          "metadata": {},
          "execution_count": 27
        },
        {
          "output_type": "display_data",
          "data": {
            "image/png": "[encoded data removed]",
            "text/plain": [
              "<Figure size 432x288 with 1 Axes>"
            ]
          },
          "metadata": {
            "needs_background": "light"
          }
        }
      ]
    },
    {
      "cell_type": "code",
      "metadata": {
        "colab": {
          "base_uri": "https://localhost:8080/",
          "height": 334
        },
        "id": "hxuIQlWNwG-N",
        "outputId": "97169a21-49a5-4667-bb6e-ddbc88862029"
      },
      "source": [
        "# Possible outcomes plot\n",
        "plt.figure(figsize=(20,5))\n",
        "sns.countplot(y=data['outcome_type'],\n",
        "              palette='coolwarm',\n",
        "              order=data['outcome_type'].value_counts().index\n",
        "              )\n",
        "plt.show()"
      ],
      "execution_count": 80,
      "outputs": [
        {
          "output_type": "display_data",
          "data": {
            "image/png": "[encoded data removed]",
            "text/plain": [
              "<Figure size 1440x360 with 1 Axes>"
            ]
          },
          "metadata": {
            "needs_background": "light"
          }
        }
      ]
    },
    {
      "cell_type": "code",
      "metadata": {
        "colab": {
          "base_uri": "https://localhost:8080/",
          "height": 1000
        },
        "id": "Cvx0PktSy4Ov",
        "outputId": "e905a468-d950-4c58-c662-fdbd5ae1f1fc"
      },
      "source": [
        "# Possible outcomes count plot by animals\n",
        "plt.figure(figsize=(20,20))\n",
        "sns.countplot(y='animal_type',\n",
        "              hue='outcome_type',\n",
        "              data=data,\n",
        "              palette='rocket_r'\n",
        "              )"
      ],
      "execution_count": 133,
      "outputs": [
        {
          "output_type": "execute_result",
          "data": {
            "text/plain": [
              "<matplotlib.axes._subplots.AxesSubplot at 0x7f41e82fbe50>"
            ]
          },
          "metadata": {},
          "execution_count": 133
        },
        {
          "output_type": "display_data",
          "data": {
            "image/png": "[encoded data removed]",
            "text/plain": [
              "<Figure size 1440x1440 with 1 Axes>"
            ]
          },
          "metadata": {
            "needs_background": "light"
          }
        }
      ]
    },
    {
      "cell_type": "code",
      "metadata": {
        "colab": {
          "base_uri": "https://localhost:8080/",
          "height": 895
        },
        "id": "IRAObBgW2m3C",
        "outputId": "11d7380d-9e40-4adc-d066-9b943a62b6cf"
      },
      "source": [
        "# Adoption bar graph by animal type\n",
        "plt.figure(figsize=(5, 15))\n",
        "sns.countplot(x='animal_type',\n",
        "              data=data.loc[data['outcome_type'] == 'Adoption'],\n",
        "              palette='cubehelix_r'\n",
        "              )"
      ],
      "execution_count": 189,
      "outputs": [
        {
          "output_type": "execute_result",
          "data": {
            "text/plain": [
              "<matplotlib.axes._subplots.AxesSubplot at 0x7f41e7586a10>"
            ]
          },
          "metadata": {},
          "execution_count": 189
        },
        {
          "output_type": "display_data",
          "data": {
            "image/png": "[encoded data removed]",
            "text/plain": [
              "<Figure size 360x1080 with 1 Axes>"
            ]
          },
          "metadata": {
            "needs_background": "light"
          }
        }
      ]
    },
    {
      "cell_type": "markdown",
      "metadata": {
        "id": "lUo1_hJYM60R"
      },
      "source": [
        "### Splitting the data into test and train data and using only necessary columns and other data cleaning tasks"
      ]
    },
    {
      "cell_type": "code",
      "metadata": {
        "colab": {
          "base_uri": "https://localhost:8080/"
        },
        "id": "aYeGYse5OJzx",
        "outputId": "e7b88c5f-2418-401f-d795-6c497d5a3f35"
      },
      "source": [
        "age_types = data['age_upon_outcome'].dropna().unique().tolist()\n",
        "print(age_types)"
      ],
      "execution_count": 193,
      "outputs": [
        {
          "output_type": "stream",
          "name": "stdout",
          "text": [
            "['2 weeks', '1 year', '9 years', '5 months', '4 months', '3 years', '1 month', '3 months', '2 years', '2 months', '4 years', '8 years', '3 weeks', '8 months', '12 years', '7 years', '5 years', '6 years', '5 days', '10 months', '4 weeks', '10 years', '2 days', '6 months', '14 years', '11 months', '15 years', '7 months', '13 years', '11 years', '16 years', '9 months', '3 days', '6 days', '4 days', '5 weeks', '1 week', '1 day', '1 weeks', '0 years', '17 years', '20 years', '18 years', '19 years', '22 years', '25 years']\n"
          ]
        }
      ]
    },
    {
      "cell_type": "code",
      "metadata": {
        "colab": {
          "base_uri": "https://localhost:8080/"
        },
        "id": "jZcwJ81nOJyS",
        "outputId": "be35284f-cf2b-42c8-acec-370531aa8717"
      },
      "source": [
        "# We can see that age is not uniform and we know that age can affect outcome since the shelter would have policies regarding that.\n",
        "# So let us convert the age_upon_outcome to age_in_days using DOB and date_upon_outcome\n",
        "data['age_in_days'] = (data['datetime'] - data['date_of_birth']).dt.days\n",
        "data['age_in_days'].describe()"
      ],
      "execution_count": 197,
      "outputs": [
        {
          "output_type": "execute_result",
          "data": {
            "text/plain": [
              "count    78256.000000\n",
              "mean       817.034822\n",
              "std       1077.098289\n",
              "min       -123.000000\n",
              "25%         95.000000\n",
              "50%        371.000000\n",
              "75%       1096.000000\n",
              "max       9137.000000\n",
              "Name: age_in_days, dtype: float64"
            ]
          },
          "metadata": {},
          "execution_count": 197
        }
      ]
    },
    {
      "cell_type": "code",
      "metadata": {
        "id": "wE9dyxikPQVJ"
      },
      "source": [
        "data[data['age_in_days'] < 0] = 0"
      ],
      "execution_count": 200,
      "outputs": []
    },
    {
      "cell_type": "code",
      "metadata": {
        "id": "m_psJ-_0PX2x"
      },
      "source": [
        "# Let us remove the columns we don't need for training and testing\n",
        "data.drop('age_upon_outcome', axis=1, inplace=True)\n",
        "data.drop(['date_of_birth','datetime', 'monthyear'], axis=1, inplace=True)\n",
        "data.drop('animal_id', axis=1, inplace=True) # We don't need id for our application."
      ],
      "execution_count": 201,
      "outputs": []
    },
    {
      "cell_type": "code",
      "metadata": {
        "id": "KDBYK6NwPpaa"
      },
      "source": [
        "# Transforming all string columns to lowercase strings for uniformity\n",
        "string_cols = ['animal_type', 'breed', 'color', 'name', 'outcome_type', 'outcome_subtype', 'sex_upon_outcome']\n",
        "\n",
        "for col in string_cols:\n",
        "    data[col] = data[col].str.lower()"
      ],
      "execution_count": 202,
      "outputs": []
    },
    {
      "cell_type": "code",
      "metadata": {
        "id": "tSva6WdTQI5b"
      },
      "source": [
        "import string\n",
        "\n",
        "def text_process(text):\n",
        "    text = text.replace('/', ' ')\n",
        "    return ''.join([char for char in text if char not in string.punctuation])\n",
        "\n",
        "for col in string_cols:\n",
        "    data[col] = data[col].apply(lambda x:text_process(str(x)))"
      ],
      "execution_count": 204,
      "outputs": []
    },
    {
      "cell_type": "code",
      "metadata": {
        "colab": {
          "base_uri": "https://localhost:8080/",
          "height": 206
        },
        "id": "h4Wfyp-OQiqz",
        "outputId": "860b6f69-2a98-4fa3-cbb6-1e7d546502ee"
      },
      "source": [
        "data.head()"
      ],
      "execution_count": 205,
      "outputs": [
        {
          "output_type": "execute_result",
          "data": {
            "text/html": [
              "<div>\n",
              "<style scoped>\n",
              "    .dataframe tbody tr th:only-of-type {\n",
              "        vertical-align: middle;\n",
              "    }\n",
              "\n",
              "    .dataframe tbody tr th {\n",
              "        vertical-align: top;\n",
              "    }\n",
              "\n",
              "    .dataframe thead th {\n",
              "        text-align: right;\n",
              "    }\n",
              "</style>\n",
              "<table border=\"1\" class=\"dataframe\">\n",
              "  <thead>\n",
              "    <tr style=\"text-align: right;\">\n",
              "      <th></th>\n",
              "      <th>animal_type</th>\n",
              "      <th>breed</th>\n",
              "      <th>color</th>\n",
              "      <th>name</th>\n",
              "      <th>outcome_subtype</th>\n",
              "      <th>outcome_type</th>\n",
              "      <th>sex_upon_outcome</th>\n",
              "      <th>age_in_days</th>\n",
              "    </tr>\n",
              "  </thead>\n",
              "  <tbody>\n",
              "    <tr>\n",
              "      <th>0</th>\n",
              "      <td>cat</td>\n",
              "      <td>domestic shorthair mix</td>\n",
              "      <td>orange tabby</td>\n",
              "      <td>nan</td>\n",
              "      <td>partner</td>\n",
              "      <td>transfer</td>\n",
              "      <td>intact male</td>\n",
              "      <td>15</td>\n",
              "    </tr>\n",
              "    <tr>\n",
              "      <th>1</th>\n",
              "      <td>dog</td>\n",
              "      <td>beagle mix</td>\n",
              "      <td>white brown</td>\n",
              "      <td>lucy</td>\n",
              "      <td>partner</td>\n",
              "      <td>transfer</td>\n",
              "      <td>spayed female</td>\n",
              "      <td>366</td>\n",
              "    </tr>\n",
              "    <tr>\n",
              "      <th>2</th>\n",
              "      <td>dog</td>\n",
              "      <td>pit bull</td>\n",
              "      <td>blue white</td>\n",
              "      <td>johnny</td>\n",
              "      <td>nan</td>\n",
              "      <td>adoption</td>\n",
              "      <td>neutered male</td>\n",
              "      <td>429</td>\n",
              "    </tr>\n",
              "    <tr>\n",
              "      <th>3</th>\n",
              "      <td>dog</td>\n",
              "      <td>miniature schnauzer mix</td>\n",
              "      <td>white</td>\n",
              "      <td>monday</td>\n",
              "      <td>partner</td>\n",
              "      <td>transfer</td>\n",
              "      <td>neutered male</td>\n",
              "      <td>3300</td>\n",
              "    </tr>\n",
              "    <tr>\n",
              "      <th>4</th>\n",
              "      <td>other</td>\n",
              "      <td>bat mix</td>\n",
              "      <td>brown</td>\n",
              "      <td>nan</td>\n",
              "      <td>rabies risk</td>\n",
              "      <td>euthanasia</td>\n",
              "      <td>unknown</td>\n",
              "      <td>181</td>\n",
              "    </tr>\n",
              "  </tbody>\n",
              "</table>\n",
              "</div>"
            ],
            "text/plain": [
              "  animal_type                    breed  ... sex_upon_outcome age_in_days\n",
              "0         cat   domestic shorthair mix  ...      intact male          15\n",
              "1         dog               beagle mix  ...    spayed female         366\n",
              "2         dog                 pit bull  ...    neutered male         429\n",
              "3         dog  miniature schnauzer mix  ...    neutered male        3300\n",
              "4       other                  bat mix  ...          unknown         181\n",
              "\n",
              "[5 rows x 8 columns]"
            ]
          },
          "metadata": {},
          "execution_count": 205
        }
      ]
    },
    {
      "cell_type": "code",
      "metadata": {
        "id": "DVnckVJbSI86"
      },
      "source": [
        "from sklearn.preprocessing import LabelEncoder\n",
        "\n",
        "string_cols = ['animal_type', 'breed', 'color', 'name', 'outcome_type', 'sex_upon_outcome']\n",
        "\n",
        "def encoder(data):\n",
        "    for col in string_cols:\n",
        "        label_encoder = LabelEncoder()\n",
        "        label_encoder.fit(data[col])\n",
        "        data[col] = label_encoder.transform(data[col])\n",
        "    return data\n",
        "\n",
        "data = encoder(data)"
      ],
      "execution_count": 214,
      "outputs": []
    },
    {
      "cell_type": "code",
      "metadata": {
        "id": "MEU62L9PNCo4"
      },
      "source": [
        "from sklearn.model_selection import train_test_split\n",
        "\n",
        "X = data.drop(['outcome_type', 'outcome_subtype'], axis=1)\n",
        "y = data['outcome_type']\n",
        "X_train, X_test, y_train, y_test = train_test_split(X, y, test_size=0.2, stratify=y)"
      ],
      "execution_count": 219,
      "outputs": []
    },
    {
      "cell_type": "markdown",
      "metadata": {
        "id": "40fAhsipMxwK"
      },
      "source": [
        "### Using a Decision Tree model from scikit-learn"
      ]
    },
    {
      "cell_type": "code",
      "metadata": {
        "colab": {
          "base_uri": "https://localhost:8080/"
        },
        "id": "eRyuwxvu8SXL",
        "outputId": "733fe923-a875-4c33-a5d3-2ded78debad5"
      },
      "source": [
        "from sklearn.tree import DecisionTreeClassifier\n",
        "\n",
        "dtree = DecisionTreeClassifier()\n",
        "dtree.fit(X_train, y_train)"
      ],
      "execution_count": 220,
      "outputs": [
        {
          "output_type": "execute_result",
          "data": {
            "text/plain": [
              "DecisionTreeClassifier(ccp_alpha=0.0, class_weight=None, criterion='gini',\n",
              "                       max_depth=None, max_features=None, max_leaf_nodes=None,\n",
              "                       min_impurity_decrease=0.0, min_impurity_split=None,\n",
              "                       min_samples_leaf=1, min_samples_split=2,\n",
              "                       min_weight_fraction_leaf=0.0, presort='deprecated',\n",
              "                       random_state=None, splitter='best')"
            ]
          },
          "metadata": {},
          "execution_count": 220
        }
      ]
    },
    {
      "cell_type": "code",
      "metadata": {
        "id": "X6F4byveSDI6"
      },
      "source": [
        "predictions = dtree.predict(X_test)"
      ],
      "execution_count": 221,
      "outputs": []
    },
    {
      "cell_type": "code",
      "metadata": {
        "colab": {
          "base_uri": "https://localhost:8080/"
        },
        "id": "mx4LaLH4TaF3",
        "outputId": "2c0d4a6b-5ac1-4004-9faa-a29819bcb931"
      },
      "source": [
        "from sklearn.metrics import classification_report\n",
        "print(classification_report(y_test, predictions))"
      ],
      "execution_count": 222,
      "outputs": [
        {
          "output_type": "stream",
          "name": "stdout",
          "text": [
            "              precision    recall  f1-score   support\n",
            "\n",
            "           0       0.70      0.68      0.69      6622\n",
            "           1       0.12      0.11      0.12       136\n",
            "           2       0.21      0.08      0.12        61\n",
            "           3       0.56      0.59      0.57      1216\n",
            "           4       0.00      0.00      0.00         9\n",
            "           5       0.29      0.50      0.36         4\n",
            "           6       0.00      0.00      0.00         3\n",
            "           7       0.50      0.49      0.50      2871\n",
            "           8       0.00      0.00      0.00        30\n",
            "           9       0.59      0.60      0.59      4700\n",
            "\n",
            "    accuracy                           0.61     15652\n",
            "   macro avg       0.30      0.31      0.30     15652\n",
            "weighted avg       0.61      0.61      0.61     15652\n",
            "\n"
          ]
        }
      ]
    },
    {
      "cell_type": "markdown",
      "metadata": {
        "id": "PdPh2Fs7TlT0"
      },
      "source": [
        "### Using random  forest classifier for better results"
      ]
    },
    {
      "cell_type": "code",
      "metadata": {
        "colab": {
          "base_uri": "https://localhost:8080/"
        },
        "id": "0dOa8dbdTdt1",
        "outputId": "dba78b78-f602-409c-ce97-f8b844858165"
      },
      "source": [
        "from sklearn.ensemble import RandomForestClassifier\n",
        "\n",
        "rf = RandomForestClassifier()\n",
        "rf.fit(X_train, y_train)"
      ],
      "execution_count": 223,
      "outputs": [
        {
          "output_type": "execute_result",
          "data": {
            "text/plain": [
              "RandomForestClassifier(bootstrap=True, ccp_alpha=0.0, class_weight=None,\n",
              "                       criterion='gini', max_depth=None, max_features='auto',\n",
              "                       max_leaf_nodes=None, max_samples=None,\n",
              "                       min_impurity_decrease=0.0, min_impurity_split=None,\n",
              "                       min_samples_leaf=1, min_samples_split=2,\n",
              "                       min_weight_fraction_leaf=0.0, n_estimators=100,\n",
              "                       n_jobs=None, oob_score=False, random_state=None,\n",
              "                       verbose=0, warm_start=False)"
            ]
          },
          "metadata": {},
          "execution_count": 223
        }
      ]
    },
    {
      "cell_type": "code",
      "metadata": {
        "colab": {
          "base_uri": "https://localhost:8080/"
        },
        "id": "ZBJg-gccTyVW",
        "outputId": "28c4ac18-a472-40a3-edf0-f0b6ced3dea6"
      },
      "source": [
        "rf_predictions = rf.predict(X_test)\n",
        "\n",
        "print(classification_report(y_test, rf_predictions))"
      ],
      "execution_count": 224,
      "outputs": [
        {
          "output_type": "stream",
          "name": "stdout",
          "text": [
            "              precision    recall  f1-score   support\n",
            "\n",
            "           0       0.71      0.83      0.77      6622\n",
            "           1       0.26      0.07      0.11       136\n",
            "           2       0.43      0.10      0.16        61\n",
            "           3       0.74      0.57      0.65      1216\n",
            "           4       0.00      0.00      0.00         9\n",
            "           5       0.67      0.50      0.57         4\n",
            "           6       0.00      0.00      0.00         3\n",
            "           7       0.57      0.58      0.58      2871\n",
            "           8       0.00      0.00      0.00        30\n",
            "           9       0.72      0.61      0.67      4700\n",
            "\n",
            "    accuracy                           0.69     15652\n",
            "   macro avg       0.41      0.33      0.35     15652\n",
            "weighted avg       0.68      0.69      0.68     15652\n",
            "\n"
          ]
        },
        {
          "output_type": "stream",
          "name": "stderr",
          "text": [
            "/usr/local/lib/python3.7/dist-packages/sklearn/metrics/_classification.py:1272: UndefinedMetricWarning: Precision and F-score are ill-defined and being set to 0.0 in labels with no predicted samples. Use `zero_division` parameter to control this behavior.\n",
            "  _warn_prf(average, modifier, msg_start, len(result))\n"
          ]
        }
      ]
    },
    {
      "cell_type": "markdown",
      "metadata": {
        "id": "fGI9WDdOUN30"
      },
      "source": [
        "### Using Gaussian Naive Baiyes Classifier"
      ]
    },
    {
      "cell_type": "code",
      "metadata": {
        "colab": {
          "base_uri": "https://localhost:8080/"
        },
        "id": "tC288CEgUQRz",
        "outputId": "7cae5eac-c967-4e7e-aaad-c0a946bba171"
      },
      "source": [
        "from sklearn.naive_bayes import GaussianNB\n",
        "\n",
        "gnb = GaussianNB()\n",
        "gnb.fit(X_train, y_train)"
      ],
      "execution_count": 225,
      "outputs": [
        {
          "output_type": "execute_result",
          "data": {
            "text/plain": [
              "GaussianNB(priors=None, var_smoothing=1e-09)"
            ]
          },
          "metadata": {},
          "execution_count": 225
        }
      ]
    },
    {
      "cell_type": "code",
      "metadata": {
        "colab": {
          "base_uri": "https://localhost:8080/"
        },
        "id": "tlsCJPiaUoVz",
        "outputId": "38370123-c527-4dc2-b9f8-bc550733e832"
      },
      "source": [
        "gnb_predictions = gnb.predict(X_test)\n",
        "\n",
        "print(classification_report(y_test, gnb_predictions))"
      ],
      "execution_count": 227,
      "outputs": [
        {
          "output_type": "stream",
          "name": "stdout",
          "text": [
            "              precision    recall  f1-score   support\n",
            "\n",
            "           0       0.63      0.77      0.69      6622\n",
            "           1       0.00      0.00      0.00       136\n",
            "           2       0.00      0.00      0.00        61\n",
            "           3       0.36      0.05      0.08      1216\n",
            "           4       0.00      0.00      0.00         9\n",
            "           5       0.00      0.00      0.00         4\n",
            "           6       0.00      1.00      0.00         3\n",
            "           7       0.47      0.34      0.39      2871\n",
            "           8       0.00      0.00      0.00        30\n",
            "           9       0.69      0.44      0.54      4700\n",
            "\n",
            "    accuracy                           0.52     15652\n",
            "   macro avg       0.21      0.26      0.17     15652\n",
            "weighted avg       0.59      0.52      0.53     15652\n",
            "\n"
          ]
        },
        {
          "output_type": "stream",
          "name": "stderr",
          "text": [
            "/usr/local/lib/python3.7/dist-packages/sklearn/metrics/_classification.py:1272: UndefinedMetricWarning: Precision and F-score are ill-defined and being set to 0.0 in labels with no predicted samples. Use `zero_division` parameter to control this behavior.\n",
            "  _warn_prf(average, modifier, msg_start, len(result))\n"
          ]
        }
      ]
    },
    {
      "cell_type": "markdown",
      "metadata": {
        "id": "DJyDYvX7U2bS"
      },
      "source": [
        "We can see that the random forest classifier works best for our use.\n"
      ]
    },
    {
      "cell_type": "markdown",
      "metadata": {
        "id": "FZLJrShMUIPj"
      },
      "source": [
        "### Checking feature importance for Random Forest"
      ]
    },
    {
      "cell_type": "code",
      "metadata": {
        "colab": {
          "base_uri": "https://localhost:8080/",
          "height": 206
        },
        "id": "FRxuYVjWWmre",
        "outputId": "1558822c-7d53-4339-d73c-74504b219b3b"
      },
      "source": [
        "data.head()"
      ],
      "execution_count": 239,
      "outputs": [
        {
          "output_type": "execute_result",
          "data": {
            "text/html": [
              "<div>\n",
              "<style scoped>\n",
              "    .dataframe tbody tr th:only-of-type {\n",
              "        vertical-align: middle;\n",
              "    }\n",
              "\n",
              "    .dataframe tbody tr th {\n",
              "        vertical-align: top;\n",
              "    }\n",
              "\n",
              "    .dataframe thead th {\n",
              "        text-align: right;\n",
              "    }\n",
              "</style>\n",
              "<table border=\"1\" class=\"dataframe\">\n",
              "  <thead>\n",
              "    <tr style=\"text-align: right;\">\n",
              "      <th></th>\n",
              "      <th>animal_type</th>\n",
              "      <th>breed</th>\n",
              "      <th>color</th>\n",
              "      <th>name</th>\n",
              "      <th>outcome_subtype</th>\n",
              "      <th>outcome_type</th>\n",
              "      <th>sex_upon_outcome</th>\n",
              "      <th>age_in_days</th>\n",
              "    </tr>\n",
              "  </thead>\n",
              "  <tbody>\n",
              "    <tr>\n",
              "      <th>0</th>\n",
              "      <td>1</td>\n",
              "      <td>943</td>\n",
              "      <td>326</td>\n",
              "      <td>7452</td>\n",
              "      <td>13</td>\n",
              "      <td>9</td>\n",
              "      <td>1</td>\n",
              "      <td>15</td>\n",
              "    </tr>\n",
              "    <tr>\n",
              "      <th>1</th>\n",
              "      <td>2</td>\n",
              "      <td>279</td>\n",
              "      <td>474</td>\n",
              "      <td>6324</td>\n",
              "      <td>13</td>\n",
              "      <td>9</td>\n",
              "      <td>4</td>\n",
              "      <td>366</td>\n",
              "    </tr>\n",
              "    <tr>\n",
              "      <th>2</th>\n",
              "      <td>2</td>\n",
              "      <td>1614</td>\n",
              "      <td>118</td>\n",
              "      <td>5163</td>\n",
              "      <td>11</td>\n",
              "      <td>0</td>\n",
              "      <td>3</td>\n",
              "      <td>429</td>\n",
              "    </tr>\n",
              "    <tr>\n",
              "      <th>3</th>\n",
              "      <td>2</td>\n",
              "      <td>1483</td>\n",
              "      <td>463</td>\n",
              "      <td>7162</td>\n",
              "      <td>13</td>\n",
              "      <td>9</td>\n",
              "      <td>3</td>\n",
              "      <td>3300</td>\n",
              "    </tr>\n",
              "    <tr>\n",
              "      <th>4</th>\n",
              "      <td>5</td>\n",
              "      <td>253</td>\n",
              "      <td>121</td>\n",
              "      <td>7452</td>\n",
              "      <td>15</td>\n",
              "      <td>3</td>\n",
              "      <td>5</td>\n",
              "      <td>181</td>\n",
              "    </tr>\n",
              "  </tbody>\n",
              "</table>\n",
              "</div>"
            ],
            "text/plain": [
              "   animal_type  breed  color  ...  outcome_type  sex_upon_outcome  age_in_days\n",
              "0            1    943    326  ...             9                 1           15\n",
              "1            2    279    474  ...             9                 4          366\n",
              "2            2   1614    118  ...             0                 3          429\n",
              "3            2   1483    463  ...             9                 3         3300\n",
              "4            5    253    121  ...             3                 5          181\n",
              "\n",
              "[5 rows x 8 columns]"
            ]
          },
          "metadata": {},
          "execution_count": 239
        }
      ]
    },
    {
      "cell_type": "code",
      "metadata": {
        "colab": {
          "base_uri": "https://localhost:8080/",
          "height": 458
        },
        "id": "_eBll2yDT9GL",
        "outputId": "7b1fd9fb-0063-48e5-f387-50e35ea4266a"
      },
      "source": [
        "feat_imp = pd.DataFrame({\n",
        "    'Feature': data.drop(['outcome_type', 'outcome_subtype'], axis=1).columns[:],\n",
        "    'Importance': rf.feature_importances_.tolist()\n",
        "})\n",
        "\n",
        "plt.figure(figsize=(8, 6))\n",
        "feature_plot = sns.barplot(data=feat_imp, x='Feature', y='Importance')\n",
        "labels = feature_plot.get_xticklabels()\n",
        "feature_plot.set_xticklabels(labels,rotation=50)\n",
        "plt.show(g)"
      ],
      "execution_count": 251,
      "outputs": [
        {
          "output_type": "display_data",
          "data": {
            "image/png": "[encoded data removed]",
            "text/plain": [
              "<Figure size 576x432 with 1 Axes>"
            ]
          },
          "metadata": {
            "needs_background": "light"
          }
        }
      ]
    },
    {
      "cell_type": "code",
      "metadata": {
        "id": "sd4ldPgQWUSD"
      },
      "source": [
        ""
      ],
      "execution_count": null,
      "outputs": []
    }
  ]
}